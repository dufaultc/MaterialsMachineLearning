{
 "cells": [
  {
   "cell_type": "code",
   "execution_count": 30,
   "metadata": {
    "collapsed": true
   },
   "outputs": [],
   "source": [
    "from numpy import *\n",
    "import pandas as pd\n",
    "from PIL import Image\n",
    "from copy import *\n"
   ]
  },
  {
   "cell_type": "code",
   "execution_count": 31,
   "metadata": {},
   "outputs": [
    {
     "data": {
      "text/plain": [
       "'\\ndef tenDownRight(readRGB):\\n    diff = empty(len(readRGB))\\n        \\n    for i in range(1024*(1024-10)):\\n        if (i % 1024 < 1014):\\n            diff[i] =  readRGB[i] - readRGB[i + 10*1024 + 10]\\n        else:\\n            diff[i] = 0\\n    for i in range(1024*(1024-10), len(readRGB)):\\n        diff[i] = 0\\n\\n    return diff\\n\\ndef tenDownLeft(readRGB):\\n    diff = empty(len(readRGB))\\n\\n    for i in range(1024*(1024-10)):\\n        if (i % 1024 > 9):\\n            diff[i] =  readRGB[i] - readRGB[i + 10*1024 - 10]\\n        else:\\n            diff[i] = 0\\n            \\n    for i in range(1024*(1024-10), len(readRGB)):\\n        diff[i] = 0\\n            \\n\\n    return diff\\n\\n'"
      ]
     },
     "execution_count": 31,
     "metadata": {},
     "output_type": "execute_result"
    }
   ],
   "source": [
    "pixels_dict = {}\n",
    "readRGB = []\n",
    "solvedCat = []\n",
    "def readGraynne(image_name):\n",
    "    img = Image.open(image_name, 'r').convert('I')\n",
    "    data = asarray(img)\n",
    "    return data\n",
    "\n",
    "\n",
    "def fiveUp(readRGB):\n",
    "    diff = empty(len(readRGB))\n",
    "    for i in range(1024*5):\n",
    "        diff[i] = nan\n",
    "    for i in range(1024*5, len(readRGB)):\n",
    "        diff[i] =  readRGB[i] - readRGB[i - 5*1024]\n",
    "\n",
    "    return diff\n",
    "\n",
    "def fiveDown(readRGB):\n",
    "    diff = empty(len(readRGB))\n",
    "    for i in range(1024*(1024-5)):\n",
    "        diff[i] = readRGB[i] - readRGB[i + 5*1024]\n",
    "    for i in range(1024*(1024-5), len(readRGB)):\n",
    "        diff[i] = nan\n",
    "\n",
    "    return diff\n",
    "\n",
    "def fiveRight(readRGB):\n",
    "    diff = empty(len(readRGB))\n",
    "    for i in range(len(readRGB)):\n",
    "        if (i % 1024 < 1019):\n",
    "            diff[i] = readRGB[i] - readRGB[i + 5]\n",
    "        else:\n",
    "            diff[i] = nan\n",
    "\n",
    "    return diff\n",
    "\n",
    "def fiveLeft(readRGB):\n",
    "    diff = empty(len(readRGB))\n",
    "    for i in range(len(readRGB)):\n",
    "        if (i % 1024 > 4):\n",
    "            diff[i] = readRGB[i] - readRGB[i - 5]\n",
    "        else:\n",
    "            diff[i] = nan\n",
    "\n",
    "    return diff\n",
    "\n",
    "def tenUp(readRGB):\n",
    "    diff = empty(len(readRGB))\n",
    "    for i in range(1024*10):\n",
    "        diff[i] = nan\n",
    "    for i in range(1024*10, len(readRGB)):\n",
    "        diff[i] =  readRGB[i] - readRGB[i - 10*1024]\n",
    "\n",
    "    return diff\n",
    "\n",
    "def tenDown(readRGB):\n",
    "    diff = empty(len(readRGB))\n",
    "    for i in range(1024*(1024-10)):\n",
    "        diff[i] = readRGB[i] - readRGB[i + 10*1024]\n",
    "    for i in range(1024*(1024-10), len(readRGB)):\n",
    "        diff[i] = nan\n",
    "\n",
    "    return diff\n",
    "\n",
    "def tenRight(readRGB):\n",
    "    diff = empty(len(readRGB))\n",
    "    for i in range(len(readRGB)):\n",
    "        if (i % 1024 < 1014):\n",
    "            diff[i] = readRGB[i] - readRGB[i + 10]\n",
    "        else:\n",
    "            diff[i] = nan\n",
    "\n",
    "    return diff\n",
    "\n",
    "def tenLeft(readRGB):\n",
    "    diff = empty(len(readRGB))\n",
    "    for i in range(len(readRGB)):\n",
    "        if (i % 1024 > 9):\n",
    "            diff[i] = readRGB[i] - readRGB[i - 10]\n",
    "        else:\n",
    "            diff[i] = nan\n",
    "\n",
    "    return diff\n",
    "\n",
    "def fiveUpRight(readRGB):\n",
    "    diff = empty(len(readRGB))\n",
    "    for i in range(1024*5):\n",
    "        diff[i] = 0\n",
    "    for i in range(1024*5, len(readRGB)):\n",
    "            if (i % 1024 < 1019):\n",
    "                diff[i] =  readRGB[i] - readRGB[i - 5*1024 + 5]\n",
    "            else:\n",
    "                diff[i] = 0\n",
    "\n",
    "    return diff\n",
    "\n",
    "def fiveUpLeft(readRGB):\n",
    "    diff = empty(len(readRGB))\n",
    "    for i in range(1024*5):\n",
    "        diff[i] = 0\n",
    "    for i in range(1024*5, len(readRGB)):\n",
    "        if (i % 1024 > 4):\n",
    "            diff[i] =  readRGB[i] - readRGB[i - 5*1024 - 5]\n",
    "        else:\n",
    "            diff[i] = 0\n",
    "\n",
    "    return diff\n",
    "'''\n",
    "def fiveDownRight(readRGB):\n",
    "    diff = empty(len(readRGB))\n",
    "        \n",
    "    for i in range(1024*(1024-5)):\n",
    "        if (i % 1024 < 1019):\n",
    "            diff[i] =  readRGB[i] - readRGB[i + 5*1024 + 5]\n",
    "        else:\n",
    "            diff[i] = 0\n",
    "    for i in range(1024*(1024-5), len(readRGB)):\n",
    "        diff[i] = 0\n",
    "\n",
    "    return diff\n",
    "\n",
    "def fiveDownLeft(readRGB):\n",
    "    diff = empty(len(readRGB))\n",
    "\n",
    "    for i in range(1024*(1024-5)):\n",
    "        if (i % 1024 > 4):\n",
    "            diff[i] =  readRGB[i] - readRGB[i + 5*1024 - 5]\n",
    "        else:\n",
    "            diff[i] = 0\n",
    "            \n",
    "    for i in range(1024*(1024-5), len(readRGB)):\n",
    "        diff[i] = 0\n",
    "            \n",
    "\n",
    "    return diff\n",
    "'''\n",
    "def tenUpRight(readRGB):\n",
    "    diff = empty(len(readRGB))\n",
    "    for i in range(1024*10):\n",
    "        diff[i] = 0\n",
    "    for i in range(1024*10, len(readRGB)):\n",
    "            if (i % 1024 < 1014):\n",
    "                diff[i] =  readRGB[i] - readRGB[i - 10*1024 + 10]\n",
    "            else:\n",
    "                diff[i] = 0\n",
    "\n",
    "    return diff\n",
    "\n",
    "def tenUpLeft(readRGB):\n",
    "    diff = empty(len(readRGB))\n",
    "    for i in range(1024*10):\n",
    "        diff[i] = 0\n",
    "    for i in range(1024*10, len(readRGB)):\n",
    "        if (i % 1024 > 9):\n",
    "            diff[i] =  readRGB[i] - readRGB[i - 10*1024 - 10]\n",
    "        else:\n",
    "            diff[i] = 0\n",
    "\n",
    "    return diff\n",
    "'''\n",
    "def tenDownRight(readRGB):\n",
    "    diff = empty(len(readRGB))\n",
    "        \n",
    "    for i in range(1024*(1024-10)):\n",
    "        if (i % 1024 < 1014):\n",
    "            diff[i] =  readRGB[i] - readRGB[i + 10*1024 + 10]\n",
    "        else:\n",
    "            diff[i] = 0\n",
    "    for i in range(1024*(1024-10), len(readRGB)):\n",
    "        diff[i] = 0\n",
    "\n",
    "    return diff\n",
    "\n",
    "def tenDownLeft(readRGB):\n",
    "    diff = empty(len(readRGB))\n",
    "\n",
    "    for i in range(1024*(1024-10)):\n",
    "        if (i % 1024 > 9):\n",
    "            diff[i] =  readRGB[i] - readRGB[i + 10*1024 - 10]\n",
    "        else:\n",
    "            diff[i] = 0\n",
    "            \n",
    "    for i in range(1024*(1024-10), len(readRGB)):\n",
    "        diff[i] = 0\n",
    "            \n",
    "\n",
    "    return diff\n",
    "\n",
    "'''"
   ]
  },
  {
   "cell_type": "code",
   "execution_count": 32,
   "metadata": {},
   "outputs": [
    {
     "name": "stdout",
     "output_type": "stream",
     "text": [
      "20971520\n",
      "[58313 58562 58923 ... 23810 23635 23457]\n"
     ]
    }
   ],
   "source": [
    "for i in range(20):\n",
    "    readRGB.append(reshape(readGraynne(\"fake_microstructure/Target_1/image_\" + str(i) + \".png\"),1048576))\n",
    "\n",
    "for i in range(20):\n",
    "    solvedCat.append(reshape(readGraynne(\"fake_microstructure/Target_1/p2mask_np_\" + str(i) + \".png\"),1048576))\n",
    "    \n",
    "readRGB = reshape(readRGB, int(20971520))\n",
    "solvedCat = reshape(solvedCat,int(20971520))\n",
    "    \n",
    "pixelsFrame = pd.DataFrame(pixels_dict)\n",
    "print(size(readRGB))\n",
    "print(readRGB)\n",
    "\n"
   ]
  },
  {
   "cell_type": "code",
   "execution_count": 33,
   "metadata": {
    "collapsed": true
   },
   "outputs": [],
   "source": [
    "#print(len(solvedCat))\n",
    "#print(size(solvedCat))\n",
    "#print(solvedCat)"
   ]
  },
  {
   "cell_type": "code",
   "execution_count": 34,
   "metadata": {},
   "outputs": [
    {
     "data": {
      "text/plain": [
       "\"\\npixelsFrame['dif5DownRight'] = fiveDownRight(readRGB)\\npixelsFrame['dif10DownRight'] = tenDownRight(readRGB)\\n\\npixelsFrame['dif5DownLeft'] = fiveDownLeft(readRGB)\\npixelsFrame['dif10DownLeft'] = tenDownLeft(readRGB)\\n\""
      ]
     },
     "execution_count": 34,
     "metadata": {},
     "output_type": "execute_result"
    }
   ],
   "source": [
    "pixelsFrame['originalRGB'] = readRGB\n",
    "pixelsFrame['solved Cat'] = solvedCat\n",
    "\n",
    "pixelsFrame['dif5Right'] = fiveRight(readRGB)\n",
    "pixelsFrame['dif10Right'] = tenRight(readRGB)\n",
    "\n",
    "\n",
    "\n",
    "pixelsFrame['dif5Up'] = fiveUp(readRGB)\n",
    "pixelsFrame['dif10Up'] = tenUp(readRGB)\n",
    "\n",
    "\n",
    "\n",
    "\n",
    "pixelsFrame['dif5Left'] = fiveLeft(readRGB)\n",
    "pixelsFrame['dif10Left'] = tenLeft(readRGB)\n",
    "\n",
    "\n",
    "\n",
    "pixelsFrame['dif5down'] = fiveDown(readRGB)\n",
    "pixelsFrame['dif10down'] = tenDown(readRGB)\n",
    "\n",
    "\n",
    "\n",
    "pixelsFrame['dif5UpRight'] = fiveUpRight(readRGB)\n",
    "pixelsFrame['dif10UpRight'] = tenUpRight(readRGB)\n",
    "\n",
    "\n",
    "\n",
    "\n",
    "pixelsFrame['dif5UpLeft'] = fiveUpLeft(readRGB)\n",
    "pixelsFrame['dif10UpLeft'] = tenUpLeft(readRGB)\n",
    "\n",
    "'''\n",
    "pixelsFrame['dif5DownRight'] = fiveDownRight(readRGB)\n",
    "pixelsFrame['dif10DownRight'] = tenDownRight(readRGB)\n",
    "\n",
    "pixelsFrame['dif5DownLeft'] = fiveDownLeft(readRGB)\n",
    "pixelsFrame['dif10DownLeft'] = tenDownLeft(readRGB)\n",
    "'''\n"
   ]
  },
  {
   "cell_type": "code",
   "execution_count": 35,
   "metadata": {},
   "outputs": [
    {
     "data": {
      "text/plain": [
       "0    65535\n",
       "1    65535\n",
       "2    65535\n",
       "3    65535\n",
       "4    65535\n",
       "Name: solved Cat, dtype: int32"
      ]
     },
     "execution_count": 35,
     "metadata": {},
     "output_type": "execute_result"
    }
   ],
   "source": [
    "pixelsFrame['solved Cat'].head()"
   ]
  },
  {
   "cell_type": "code",
   "execution_count": 36,
   "metadata": {
    "collapsed": true
   },
   "outputs": [],
   "source": [
    "\n",
    "pixelsFrame['dif5Right'].fillna(pixelsFrame['dif5Right'].mean(),inplace = True)\n",
    "pixelsFrame['dif10Right'].fillna(pixelsFrame['dif10Right'].mean(), inplace = True)\n",
    "pixelsFrame['dif5Up'].fillna(pixelsFrame['dif5Up'].mean(), inplace = True)\n",
    "pixelsFrame['dif10Up'].fillna(pixelsFrame['dif10Up'].mean(), inplace = True)\n",
    "pixelsFrame['dif5Left'].fillna(pixelsFrame['dif5Left'].mean(), inplace = True)\n",
    "pixelsFrame['dif10Left'].fillna(pixelsFrame['dif10Left'].mean(), inplace = True)\n",
    "\n",
    "pixelsFrame['dif5down'].fillna(pixelsFrame['dif5down'].mean(), inplace= True)\n",
    "pixelsFrame['dif10down'].fillna(pixelsFrame['dif10down'].mean(), inplace = True)\n",
    "\n",
    "pixelsFrame['dif5UpRight'].fillna(pixelsFrame['dif5UpRight'].mean(), inplace= True)\n",
    "pixelsFrame['dif10UpRight'].fillna(pixelsFrame['dif10UpRight'].mean(), inplace= True)\n",
    "pixelsFrame['dif5UpLeft'].fillna(pixelsFrame['dif5UpLeft'].mean(), inplace= True)\n",
    "pixelsFrame['dif10UpLeft'].fillna(pixelsFrame['dif10UpLeft'].mean(), inplace= True)"
   ]
  },
  {
   "cell_type": "code",
   "execution_count": 37,
   "metadata": {
    "collapsed": true
   },
   "outputs": [],
   "source": [
    "count = 0\n",
    "def category(data):\n",
    "    if data > 30000:\n",
    "        return 1\n",
    "    else:\n",
    "        count = 1\n",
    "        return 0\n",
    "    \n",
    "def categoryYo(data):\n",
    "    if (data > -3000 and data < 3000):\n",
    "        return 2\n",
    "    elif (data < -3000):\n",
    "        return 1\n",
    "    else:\n",
    "        return 0\n",
    "\n",
    "\n",
    "        \n",
    "        "
   ]
  },
  {
   "cell_type": "code",
   "execution_count": null,
   "metadata": {
    "collapsed": true
   },
   "outputs": [],
   "source": [
    "\n",
    "pixelsFrame[\"solved Cat\"] = pixelsFrame[\"solved Cat\"].apply(category)\n"
   ]
  },
  {
   "cell_type": "code",
   "execution_count": null,
   "metadata": {
    "collapsed": true
   },
   "outputs": [],
   "source": [
    "\n",
    "#%matplotlib inline\n",
    "#pixelsFrame['dif10Right'].hist(bins = 100)\n",
    "\n",
    "pixelsFrame[\"dif10Right\"] = pixelsFrame[\"dif10Right\"].apply(categoryYo)\n",
    "pixelsFrame[\"dif5Right\"] = pixelsFrame[\"dif5Right\"].apply(categoryYo)\n",
    "\n",
    "pixelsFrame[\"dif10Left\"] = pixelsFrame[\"dif10Left\"].apply(categoryYo)\n",
    "pixelsFrame[\"dif5Left\"] = pixelsFrame[\"dif5Left\"].apply(categoryYo)\n",
    "\n",
    "pixelsFrame[\"dif10Up\"] = pixelsFrame[\"dif10Up\"].apply(categoryYo)\n",
    "pixelsFrame[\"dif5Up\"] = pixelsFrame[\"dif5Up\"].apply(categoryYo)\n",
    "\n",
    "pixelsFrame[\"dif10down\"] = pixelsFrame[\"dif10down\"].apply(categoryYo)\n",
    "pixelsFrame[\"dif5down\"] = pixelsFrame[\"dif5down\"].apply(categoryYo)\n",
    "\n",
    "pixelsFrame['dif10UpRight'] = pixelsFrame['dif10UpRight'].apply(categoryYo)\n",
    "pixelsFrame['dif5UpRight'] = pixelsFrame['dif5UpRight'].apply(categoryYo)\n",
    "\n",
    "pixelsFrame['dif10UpLeft'] = pixelsFrame['dif10UpLeft'].apply(categoryYo)\n",
    "pixelsFrame['dif5UpLeft'] = pixelsFrame['dif5UpLeft'].apply(categoryYo)"
   ]
  },
  {
   "cell_type": "code",
   "execution_count": null,
   "metadata": {},
   "outputs": [],
   "source": [
    "pixelsFrame.head(610)"
   ]
  },
  {
   "cell_type": "code",
   "execution_count": null,
   "metadata": {
    "collapsed": true
   },
   "outputs": [],
   "source": [
    "X = pixelsFrame.drop('solved Cat',axis = 1)\n",
    "y = pixelsFrame['solved Cat']"
   ]
  },
  {
   "cell_type": "code",
   "execution_count": null,
   "metadata": {
    "collapsed": true
   },
   "outputs": [],
   "source": [
    "from sklearn.model_selection import train_test_split"
   ]
  },
  {
   "cell_type": "code",
   "execution_count": null,
   "metadata": {
    "collapsed": true
   },
   "outputs": [],
   "source": [
    "X_train, X_test, y_train, y_test = train_test_split(X, y, test_size=0.33, random_state=42)"
   ]
  },
  {
   "cell_type": "code",
   "execution_count": null,
   "metadata": {
    "collapsed": true
   },
   "outputs": [],
   "source": [
    "from sklearn.linear_model import LogisticRegression"
   ]
  },
  {
   "cell_type": "code",
   "execution_count": null,
   "metadata": {},
   "outputs": [],
   "source": [
    "logmodel = LogisticRegression()\n",
    "logmodel.fit(X_train,y_train)\n",
    "predictions = logmodel.predict(X_test)"
   ]
  },
  {
   "cell_type": "code",
   "execution_count": null,
   "metadata": {
    "collapsed": true
   },
   "outputs": [],
   "source": [
    "from sklearn.metrics import confusion_matrix"
   ]
  },
  {
   "cell_type": "code",
   "execution_count": null,
   "metadata": {},
   "outputs": [],
   "source": [
    "confusion_matrix(y_test,predictions)"
   ]
  },
  {
   "cell_type": "code",
   "execution_count": 110,
   "metadata": {},
   "outputs": [
    {
     "data": {
      "text/plain": [
       "<matplotlib.axes._subplots.AxesSubplot at 0x1ed8bbc2198>"
      ]
     },
     "execution_count": 110,
     "metadata": {},
     "output_type": "execute_result"
    },
    {
     "data": {
      "image/png": "[encoded data removed]",
      "text/plain": [
       "<matplotlib.figure.Figure at 0x1ed8b42b668>"
      ]
     },
     "metadata": {},
     "output_type": "display_data"
    }
   ],
   "source": [
    "\n",
    "pixelsFrame[\"solved Cat\"].hist()"
   ]
  },
  {
   "cell_type": "code",
   "execution_count": null,
   "metadata": {
    "collapsed": true
   },
   "outputs": [],
   "source": []
  },
  {
   "cell_type": "code",
   "execution_count": null,
   "metadata": {
    "collapsed": true
   },
   "outputs": [],
   "source": []
  }
 ],
 "metadata": {
  "kernelspec": {
   "display_name": "Python 3",
   "language": "python",
   "name": "python3"
  }
 },
 "nbformat": 4,
 "nbformat_minor": 2
}
